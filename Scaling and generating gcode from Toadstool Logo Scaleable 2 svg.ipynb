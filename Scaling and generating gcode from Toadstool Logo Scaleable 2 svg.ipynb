{
 "cells": [
  {
   "attachments": {},
   "cell_type": "markdown",
   "id": "d996a3dc",
   "metadata": {},
   "source": [
    "## Scaling and generating gcode from `Toadstool Logo Scaleable 2.svg`\n",
    "\n",
    "This is what Inkscape shows:\n",
    "\n",
    "![image.png](./7f83b16.png)\n",
    "\n",
    "so that's 657.39001 mm wide which is 25.8815 inches, which is pretty close to 24 already."
   ]
  },
  {
   "cell_type": "code",
   "execution_count": 3,
   "id": "f72f81bb",
   "metadata": {},
   "outputs": [
    {
     "data": {
      "text/plain": [
       "25.88150039370079"
      ]
     },
     "execution_count": 3,
     "metadata": {},
     "output_type": "execute_result"
    }
   ],
   "source": [
    "originalWidth = 657.39011 / 25.4\n",
    "originalWidth"
   ]
  },
  {
   "cell_type": "code",
   "execution_count": 5,
   "id": "f92f847c",
   "metadata": {},
   "outputs": [
    {
     "data": {
      "text/plain": [
       "609.6"
      ]
     },
     "execution_count": 5,
     "metadata": {},
     "output_type": "execute_result"
    }
   ],
   "source": [
    "24 / originalWidth * 657.39011"
   ]
  },
  {
   "cell_type": "markdown",
   "id": "211ec2a3",
   "metadata": {},
   "source": [
    "so say 610 for grins.\n",
    "\n",
    "Question is now how to scale it?\n",
    "\n",
    "Inkscape has a \"Scale\" option on Document Properties -> Page, so computing the scaling factor is as follows:"
   ]
  },
  {
   "cell_type": "code",
   "execution_count": 6,
   "id": "825fe17c",
   "metadata": {},
   "outputs": [
    {
     "data": {
      "text/plain": [
       "0.9279117387391178"
      ]
     },
     "execution_count": 6,
     "metadata": {},
     "output_type": "execute_result"
    }
   ],
   "source": [
    "610 /657.39011"
   ]
  },
  {
   "cell_type": "markdown",
   "id": "83a8d4ee",
   "metadata": {},
   "source": [
    "So this scale, when converted to a percentage may be put into Inkscape's Transform -> Scale tab as shown below:\n",
    "\n",
    "![thing](./054999d.png)\n",
    "\n",
    "I save this file as `Toadstool Logo Scaled to 24\" wide.svg`"
   ]
  },
  {
   "cell_type": "code",
   "execution_count": 7,
   "id": "875ab6bf",
   "metadata": {},
   "outputs": [
    {
     "data": {
      "text/plain": [
       "'/home/oy753c/desktops/default/toadstool-logo'"
      ]
     },
     "execution_count": 7,
     "metadata": {},
     "output_type": "execute_result"
    }
   ],
   "source": [
    "pwd"
   ]
  }
 ],
 "metadata": {
  "kernelspec": {
   "display_name": "Python 3 (ipykernel)",
   "language": "python",
   "name": "python3"
  },
  "language_info": {
   "codemirror_mode": {
    "name": "ipython",
    "version": 3
   },
   "file_extension": ".py",
   "mimetype": "text/x-python",
   "name": "python",
   "nbconvert_exporter": "python",
   "pygments_lexer": "ipython3",
   "version": "3.10.12"
  }
 },
 "nbformat": 4,
 "nbformat_minor": 5
}
